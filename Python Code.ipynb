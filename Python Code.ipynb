{
 "cells": [
  {
   "cell_type": "code",
   "execution_count": 1,
   "metadata": {},
   "outputs": [
    {
     "name": "stdout",
     "output_type": "stream",
     "text": [
      "7\n"
     ]
    }
   ],
   "source": [
    "# using step size 1 or 2 or 3.\n",
    " \n",
    "# Returns count of ways to reach n-th \n",
    "# stair using 1 or 2 or 3 steps.\n",
    "\n",
    "def findStep( n) :\n",
    "\n",
    "    if (n == 1 or n == 0) :\n",
    "\n",
    "        return 1\n",
    "\n",
    "    elif (n == 2) :\n",
    "\n",
    "        return 2\n",
    "\n",
    "     \n",
    "\n",
    "    else :\n",
    "\n",
    "        return findStep(n - 3) + findStep(n - 2) + findStep(n - 1) \n",
    "\n",
    "\n",
    "n = 4\n",
    "\n",
    "print(findStep(n))"
   ]
  }
 ],
 "metadata": {
  "kernelspec": {
   "display_name": "Python 3",
   "language": "python",
   "name": "python3"
  },
  "language_info": {
   "codemirror_mode": {
    "name": "ipython",
    "version": 3
   },
   "file_extension": ".py",
   "mimetype": "text/x-python",
   "name": "python",
   "nbconvert_exporter": "python",
   "pygments_lexer": "ipython3",
   "version": "3.8.5"
  }
 },
 "nbformat": 4,
 "nbformat_minor": 4
}
